{
 "cells": [
  {
   "cell_type": "markdown",
   "metadata": {},
   "source": [
    "# Hexdropper Tutorial\n",
    "\n",
    "This tutorial demonstrates the use of `hexdropper` to extract the hex color code from a cropped image, which can then be used to create complimentary graphics. Rather than using multiple external tools to obtain the necessary hex code to better customize one's graphics or visualization, we developed a package that would make it easier for users to directly obtain the desired hex code right here in Python. This package also has the added benefit of allowing users to extract the primary colour from a cropped image or graphic, which can be particularly useful when the image itself is noisy or interlaced with small amounts of other colours."
   ]
  },
  {
   "cell_type": "markdown",
   "metadata": {},
   "source": [
    "Here, we demonstrate an example using the UBC MDS Logo. We aim to determin its hex color code, which we will then use as an input to a matplotlib object to create a complimentary graphic. Here is the image we will be using for this tutorial."
   ]
  },
  {
   "cell_type": "markdown",
   "metadata": {},
   "source": [
    "## Set up\n",
    "First, we must import the required libraries."
   ]
  },
  {
   "cell_type": "code",
   "execution_count": 1,
   "metadata": {},
   "outputs": [],
   "source": [
    "from hexdropper import *\n",
    "import altair as alt\n",
    "import pandas as pd"
   ]
  },
  {
   "cell_type": "markdown",
   "metadata": {},
   "source": [
    "## Import image using `read_image`\n",
    "Start by reading in a cropped image containing the color we would like to match, using the `read_image` function and specifying the path to the image on the device. The image does not need to be perfectly cropped, as long as the color we are interested in is most prominent.\n",
    "\n",
    "Here is a cropped image of the UBC MDS branding from the UBC MDS [webpage](https://masterdatascience.ubc.ca/programs/vancouver): \n",
    "\n",
    "![Uncropped image of UBC MDS Logo](img/cropped_img.jpg)"
   ]
  },
  {
   "cell_type": "code",
   "execution_count": 2,
   "metadata": {},
   "outputs": [],
   "source": [
    "image = read_image('img/cropped_img.jpg')"
   ]
  },
  {
   "cell_type": "markdown",
   "metadata": {},
   "source": [
    "Note that image to be imported can either be in JPG or PNG format. In the case of a PNG format image, `read_image` will ignore the 4th channel (alpha)."
   ]
  },
  {
   "cell_type": "code",
   "execution_count": 6,
   "metadata": {},
   "outputs": [
    {
     "data": {
      "text/plain": [
       "(62, 324, 3)"
      ]
     },
     "execution_count": 6,
     "metadata": {},
     "output_type": "execute_result"
    }
   ],
   "source": [
    "image_png = read_image('img/cropped_img.png')\n",
    "image_png.shape"
   ]
  },
  {
   "cell_type": "markdown",
   "metadata": {},
   "source": [
    "## Obtain RBG value using `most_common_rgb`\n",
    "Now that the cropped image has been imported as an array, we can extract its RGB values. The function `most_common_rgb` takes the most common RGB value in the cropped image and outputs it as a tuple that corresponds to the red, green, and blue channels respectively."
   ]
  },
  {
   "cell_type": "code",
   "execution_count": 16,
   "metadata": {},
   "outputs": [
    {
     "name": "stdout",
     "output_type": "stream",
     "text": [
      "This is the most common set of RGB value in the cropped image: (8, 181, 213)\n"
     ]
    }
   ],
   "source": [
    "rgb_val = most_common_rgb(image)\n",
    "print(f\"This is the most common set of RGB value in the cropped image: {rgb_val}\")"
   ]
  },
  {
   "cell_type": "markdown",
   "metadata": {},
   "source": [
    "We can check that the output matches the correct color: \n",
    "\n",
    "![Check the output with a color picker](img/rgb_color.png)"
   ]
  },
  {
   "cell_type": "markdown",
   "metadata": {},
   "source": [
    "## `rgb_to_hex`: Convert RGB to hexadecimal format\n",
    "\n",
    "Once we have obtained the most common RGB value from an image using the most_common_rgb function, the next step might be to convert this RGB value to a more universally recognized color format - hexadecimal. This is where the `rgb_to_hex` function comes in. It efficiently converts RGB color values to their corresponding hexadecimal color codes. This is especially useful in contexts such as web design or graphic editing, where colors are often specified in hexadecimal format.\n",
    "\n",
    "The `rgb_to_hex` function can accept either three separate integers representing the red, green, and blue color channels, or a single tuple containing these three integers. It returns a string representing the color in hexadecimal format."
   ]
  },
  {
   "cell_type": "markdown",
   "metadata": {},
   "source": [
    "#### Example 1: Passing separate integers\n",
    "We can pass the RGB values as three separate arguments to the rgb_to_hex function. Given the most common RGB value in your cropped image is (8, 181, 212), the call to the function would look like this:"
   ]
  },
  {
   "cell_type": "code",
   "execution_count": 17,
   "metadata": {},
   "outputs": [
    {
     "data": {
      "text/plain": [
       "'#08B5D5'"
      ]
     },
     "execution_count": 17,
     "metadata": {},
     "output_type": "execute_result"
    }
   ],
   "source": [
    "rgb_to_hex(8, 181, 213)"
   ]
  },
  {
   "cell_type": "markdown",
   "metadata": {},
   "source": [
    "#### Example 2: Passing a single tuple\n",
    "We can also pass the RGB values as a single tuple. This is particularly useful if you already have the RGB values grouped together in a tuple format, as with the output from the `most_common_rgb` function. "
   ]
  },
  {
   "cell_type": "code",
   "execution_count": 18,
   "metadata": {},
   "outputs": [
    {
     "data": {
      "text/plain": [
       "'#08B5D5'"
      ]
     },
     "execution_count": 18,
     "metadata": {},
     "output_type": "execute_result"
    }
   ],
   "source": [
    "rgb_to_hex(rgb_val)"
   ]
  },
  {
   "cell_type": "markdown",
   "metadata": {},
   "source": [
    "Both methods will yield the same result `#08B5D4`, which is the hexadecimal representation of the color with RGB values `(8, 181, 212)`. The choice between separate integers and a single tuple depends on how the data is structured in your application."
   ]
  },
  {
   "cell_type": "markdown",
   "metadata": {},
   "source": [
    "## Use the extracted hexcode to create complimentary visualizations!\n",
    "Now that we know the hexcode of MDS logo, we can create visualizations that are a perfect color match. Here is an example using `matplotlib` specifying the hexcode as a parameter."
   ]
  },
  {
   "cell_type": "code",
   "execution_count": 19,
   "metadata": {},
   "outputs": [
    {
     "data": {
      "text/html": [
       "\n",
       "<style>\n",
       "  #altair-viz-4a5473efcfee4f65afdeae031961a3c7.vega-embed {\n",
       "    width: 100%;\n",
       "    display: flex;\n",
       "  }\n",
       "\n",
       "  #altair-viz-4a5473efcfee4f65afdeae031961a3c7.vega-embed details,\n",
       "  #altair-viz-4a5473efcfee4f65afdeae031961a3c7.vega-embed details summary {\n",
       "    position: relative;\n",
       "  }\n",
       "</style>\n",
       "<div id=\"altair-viz-4a5473efcfee4f65afdeae031961a3c7\"></div>\n",
       "<script type=\"text/javascript\">\n",
       "  var VEGA_DEBUG = (typeof VEGA_DEBUG == \"undefined\") ? {} : VEGA_DEBUG;\n",
       "  (function(spec, embedOpt){\n",
       "    let outputDiv = document.currentScript.previousElementSibling;\n",
       "    if (outputDiv.id !== \"altair-viz-4a5473efcfee4f65afdeae031961a3c7\") {\n",
       "      outputDiv = document.getElementById(\"altair-viz-4a5473efcfee4f65afdeae031961a3c7\");\n",
       "    }\n",
       "    const paths = {\n",
       "      \"vega\": \"https://cdn.jsdelivr.net/npm/vega@5?noext\",\n",
       "      \"vega-lib\": \"https://cdn.jsdelivr.net/npm/vega-lib?noext\",\n",
       "      \"vega-lite\": \"https://cdn.jsdelivr.net/npm/vega-lite@5.16.3?noext\",\n",
       "      \"vega-embed\": \"https://cdn.jsdelivr.net/npm/vega-embed@6?noext\",\n",
       "    };\n",
       "\n",
       "    function maybeLoadScript(lib, version) {\n",
       "      var key = `${lib.replace(\"-\", \"\")}_version`;\n",
       "      return (VEGA_DEBUG[key] == version) ?\n",
       "        Promise.resolve(paths[lib]) :\n",
       "        new Promise(function(resolve, reject) {\n",
       "          var s = document.createElement('script');\n",
       "          document.getElementsByTagName(\"head\")[0].appendChild(s);\n",
       "          s.async = true;\n",
       "          s.onload = () => {\n",
       "            VEGA_DEBUG[key] = version;\n",
       "            return resolve(paths[lib]);\n",
       "          };\n",
       "          s.onerror = () => reject(`Error loading script: ${paths[lib]}`);\n",
       "          s.src = paths[lib];\n",
       "        });\n",
       "    }\n",
       "\n",
       "    function showError(err) {\n",
       "      outputDiv.innerHTML = `<div class=\"error\" style=\"color:red;\">${err}</div>`;\n",
       "      throw err;\n",
       "    }\n",
       "\n",
       "    function displayChart(vegaEmbed) {\n",
       "      vegaEmbed(outputDiv, spec, embedOpt)\n",
       "        .catch(err => showError(`Javascript Error: ${err.message}<br>This usually means there's a typo in your chart specification. See the javascript console for the full traceback.`));\n",
       "    }\n",
       "\n",
       "    if(typeof define === \"function\" && define.amd) {\n",
       "      requirejs.config({paths});\n",
       "      require([\"vega-embed\"], displayChart, err => showError(`Error loading script: ${err.message}`));\n",
       "    } else {\n",
       "      maybeLoadScript(\"vega\", \"5\")\n",
       "        .then(() => maybeLoadScript(\"vega-lite\", \"5.16.3\"))\n",
       "        .then(() => maybeLoadScript(\"vega-embed\", \"6\"))\n",
       "        .catch(showError)\n",
       "        .then(() => displayChart(vegaEmbed));\n",
       "    }\n",
       "  })({\"config\": {\"view\": {\"continuousWidth\": 300, \"continuousHeight\": 300}}, \"data\": {\"name\": \"data-dabf3a8a9758ae48a9ab0ba56eff47ba\"}, \"mark\": {\"type\": \"bar\", \"color\": \"#08B5D5\"}, \"encoding\": {\"x\": {\"field\": \"name\", \"title\": \"X\", \"type\": \"nominal\"}, \"y\": {\"field\": \"value\", \"title\": \"Value\", \"type\": \"quantitative\"}}, \"title\": \"Sample Plot Using Custom Color\", \"$schema\": \"https://vega.github.io/schema/vega-lite/v5.16.3.json\", \"datasets\": {\"data-dabf3a8a9758ae48a9ab0ba56eff47ba\": [{\"name\": \"x1\", \"value\": 5}, {\"name\": \"x2\", \"value\": 10}]}}, {\"mode\": \"vega-lite\"});\n",
       "</script>"
      ],
      "text/plain": [
       "alt.Chart(...)"
      ]
     },
     "execution_count": 19,
     "metadata": {},
     "output_type": "execute_result"
    }
   ],
   "source": [
    "data = pd.DataFrame({'name': ['x1', 'x2'], 'value': [5, 10]})\n",
    "hex_code = rgb_to_hex(rgb_val)\n",
    "\n",
    "alt.Chart(data, title='Sample Plot Using Custom Color').mark_bar(\n",
    "    color=hex_code\n",
    ").encode(\n",
    "    alt.X('name',title='X'),\n",
    "    alt.Y('value', title='Value')\n",
    ")"
   ]
  },
  {
   "cell_type": "markdown",
   "metadata": {},
   "source": [
    "## `create_color_image`: Exporting the extrated color as an image"
   ]
  },
  {
   "cell_type": "markdown",
   "metadata": {},
   "source": [
    "Now, we can use this color code to create a new image. This image will solely feature the extracted color. This can help us have a visual reference of the color for other users (particularly if they do not have a programming background) when designing graphics that coordinate with MDS logo's color scheme."
   ]
  },
  {
   "cell_type": "markdown",
   "metadata": {},
   "source": [
    "By default, the function will create a 200x200 pixel image with the extrated color. The image will be saved in the current working directory and named with the color code (e.g., 08B5D4.png)."
   ]
  },
  {
   "cell_type": "code",
   "execution_count": 20,
   "metadata": {},
   "outputs": [],
   "source": [
    "create_color_image(hex_code)"
   ]
  },
  {
   "cell_type": "markdown",
   "metadata": {},
   "source": [
    "We can also change the size of the image or the location where it is saved, we can do so by adjusting the parameters of the `create_color_image` function."
   ]
  },
  {
   "cell_type": "code",
   "execution_count": 21,
   "metadata": {},
   "outputs": [],
   "source": [
    "# Create a 100x100 pixel image and save it to a specific path\n",
    "create_color_image(hex_code, image_size=(100, 100), output_path='img/cyan_08B5D5.png')"
   ]
  },
  {
   "cell_type": "markdown",
   "metadata": {},
   "source": [
    "Here is what the exported image looks like from the previous command:\n",
    "\n",
    "![exported image](img/cyan_08B5D5.png)"
   ]
  },
  {
   "cell_type": "markdown",
   "metadata": {},
   "source": [
    "## Conclusion"
   ]
  },
  {
   "cell_type": "markdown",
   "metadata": {},
   "source": [
    "Through this tutorial, we've demonstrated how to use the `hexdropper` package to extract color from a given image and use the color for visualizations or color reference. This package can be especially useful for designers and developers who need visuals that match or complement colors extracted from images, as demonstrated with the UBC MDS Logo in our example.\n",
    "\n",
    "If you have any questions or feedback about `hexdropper`, feel free to reach out or contribute to our project. Happy color dropping!"
   ]
  }
 ],
 "metadata": {
  "kernelspec": {
   "display_name": "Python 3 (ipykernel)",
   "language": "python",
   "name": "python3"
  },
  "language_info": {
   "codemirror_mode": {
    "name": "ipython",
    "version": 3
   },
   "file_extension": ".py",
   "mimetype": "text/x-python",
   "name": "python",
   "nbconvert_exporter": "python",
   "pygments_lexer": "ipython3",
   "version": "3.9.18"
  }
 },
 "nbformat": 4,
 "nbformat_minor": 4
}
